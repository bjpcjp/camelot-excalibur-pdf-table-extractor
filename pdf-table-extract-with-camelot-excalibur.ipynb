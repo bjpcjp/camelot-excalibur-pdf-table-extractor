{
 "cells": [
  {
   "cell_type": "code",
   "execution_count": 1,
   "metadata": {},
   "outputs": [],
   "source": [
    "import camelot\n",
    "tables = camelot.read_pdf('https://trade.indiabulls.com/pdf/NSE_Holidays_Equity.pdf')"
   ]
  },
  {
   "cell_type": "code",
   "execution_count": 2,
   "metadata": {},
   "outputs": [
    {
     "data": {
      "text/plain": [
       "2"
      ]
     },
     "execution_count": 2,
     "metadata": {},
     "output_type": "execute_result"
    }
   ],
   "source": [
    "# how many table extracted\n",
    "tables.n"
   ]
  },
  {
   "cell_type": "code",
   "execution_count": 3,
   "metadata": {},
   "outputs": [
    {
     "data": {
      "text/plain": [
       "{'accuracy': 100.0, 'whitespace': 0.0, 'order': 1, 'page': 1}"
      ]
     },
     "execution_count": 3,
     "metadata": {},
     "output_type": "execute_result"
    }
   ],
   "source": [
    "# parsing report for each extracted table\n",
    "tables[0].parsing_report"
   ]
  },
  {
   "cell_type": "code",
   "execution_count": 4,
   "metadata": {},
   "outputs": [
    {
     "data": {
      "text/plain": [
       "<Table shape=(13, 4)>"
      ]
     },
     "execution_count": 4,
     "metadata": {},
     "output_type": "execute_result"
    }
   ],
   "source": [
    "# get the shape of each table (#rows, #cols)\n",
    "tables[0]"
   ]
  },
  {
   "cell_type": "code",
   "execution_count": 5,
   "metadata": {},
   "outputs": [],
   "source": [
    "# export to csv, excel, json, html, sqlite\n",
    "tables[0].to_csv('nse_holiday_list_table0.csv')\n",
    "tables[1].to_csv('nse_holiday_list_table1.csv')"
   ]
  },
  {
   "cell_type": "code",
   "execution_count": 6,
   "metadata": {},
   "outputs": [
    {
     "name": "stdout",
     "output_type": "stream",
     "text": [
      "nse_holiday_list_table0.csv  nse_holiday_list_table1.csv\n"
     ]
    }
   ],
   "source": [
    "!ls *.csv"
   ]
  },
  {
   "cell_type": "code",
   "execution_count": 9,
   "metadata": {},
   "outputs": [
    {
     "data": {
      "text/html": [
       "<div>\n",
       "<style scoped>\n",
       "    .dataframe tbody tr th:only-of-type {\n",
       "        vertical-align: middle;\n",
       "    }\n",
       "\n",
       "    .dataframe tbody tr th {\n",
       "        vertical-align: top;\n",
       "    }\n",
       "\n",
       "    .dataframe thead th {\n",
       "        text-align: right;\n",
       "    }\n",
       "</style>\n",
       "<table border=\"1\" class=\"dataframe\">\n",
       "  <thead>\n",
       "    <tr style=\"text-align: right;\">\n",
       "      <th></th>\n",
       "      <th>0</th>\n",
       "      <th>1</th>\n",
       "      <th>2</th>\n",
       "      <th>3</th>\n",
       "    </tr>\n",
       "  </thead>\n",
       "  <tbody>\n",
       "    <tr>\n",
       "      <th>0</th>\n",
       "      <td>Sr. No.</td>\n",
       "      <td>Date</td>\n",
       "      <td>Day</td>\n",
       "      <td>Description</td>\n",
       "    </tr>\n",
       "    <tr>\n",
       "      <th>1</th>\n",
       "      <td>1</td>\n",
       "      <td>February 21, 2020</td>\n",
       "      <td>Friday</td>\n",
       "      <td>Mahashivratri</td>\n",
       "    </tr>\n",
       "    <tr>\n",
       "      <th>2</th>\n",
       "      <td>2</td>\n",
       "      <td>March 10, 2020</td>\n",
       "      <td>Tuesday</td>\n",
       "      <td>Holi</td>\n",
       "    </tr>\n",
       "    <tr>\n",
       "      <th>3</th>\n",
       "      <td>3</td>\n",
       "      <td>April 02,2020</td>\n",
       "      <td>Thursday</td>\n",
       "      <td>Ram Navami</td>\n",
       "    </tr>\n",
       "    <tr>\n",
       "      <th>4</th>\n",
       "      <td>4</td>\n",
       "      <td>April 06,2020</td>\n",
       "      <td>Monday</td>\n",
       "      <td>Mahavir Jayanti</td>\n",
       "    </tr>\n",
       "    <tr>\n",
       "      <th>5</th>\n",
       "      <td>5</td>\n",
       "      <td>April 10, 2020</td>\n",
       "      <td>Friday</td>\n",
       "      <td>Good Friday</td>\n",
       "    </tr>\n",
       "    <tr>\n",
       "      <th>6</th>\n",
       "      <td>6</td>\n",
       "      <td>April 14,2020</td>\n",
       "      <td>Tuesday</td>\n",
       "      <td>Dr.Baba Saheb Ambedkar Jayanti</td>\n",
       "    </tr>\n",
       "    <tr>\n",
       "      <th>7</th>\n",
       "      <td>7</td>\n",
       "      <td>May 01,2020</td>\n",
       "      <td>Friday</td>\n",
       "      <td>Maharashtra Day</td>\n",
       "    </tr>\n",
       "    <tr>\n",
       "      <th>8</th>\n",
       "      <td>8</td>\n",
       "      <td>May 25, 2020</td>\n",
       "      <td>Monday</td>\n",
       "      <td>Id-Ul-Fitr (Ramzan ID)</td>\n",
       "    </tr>\n",
       "    <tr>\n",
       "      <th>9</th>\n",
       "      <td>9</td>\n",
       "      <td>October 02, 2020</td>\n",
       "      <td>Friday</td>\n",
       "      <td>Mahatma Gandhi Jayanti</td>\n",
       "    </tr>\n",
       "    <tr>\n",
       "      <th>10</th>\n",
       "      <td>10</td>\n",
       "      <td>November 16, 2020</td>\n",
       "      <td>Monday</td>\n",
       "      <td>Diwali-Balipratipada</td>\n",
       "    </tr>\n",
       "    <tr>\n",
       "      <th>11</th>\n",
       "      <td>11</td>\n",
       "      <td>November 30, 2020</td>\n",
       "      <td>Monday</td>\n",
       "      <td>Gurunanak Jayanti</td>\n",
       "    </tr>\n",
       "    <tr>\n",
       "      <th>12</th>\n",
       "      <td>12</td>\n",
       "      <td>December 25, 2020</td>\n",
       "      <td>Friday</td>\n",
       "      <td>Christmas</td>\n",
       "    </tr>\n",
       "  </tbody>\n",
       "</table>\n",
       "</div>"
      ],
      "text/plain": [
       "          0                  1         2                               3\n",
       "0   Sr. No.               Date       Day                     Description\n",
       "1         1  February 21, 2020    Friday                   Mahashivratri\n",
       "2         2     March 10, 2020   Tuesday                            Holi\n",
       "3         3      April 02,2020  Thursday                      Ram Navami\n",
       "4         4      April 06,2020    Monday                 Mahavir Jayanti\n",
       "5         5     April 10, 2020    Friday                     Good Friday\n",
       "6         6      April 14,2020   Tuesday  Dr.Baba Saheb Ambedkar Jayanti\n",
       "7         7        May 01,2020    Friday                 Maharashtra Day\n",
       "8         8       May 25, 2020    Monday          Id-Ul-Fitr (Ramzan ID)\n",
       "9         9   October 02, 2020    Friday          Mahatma Gandhi Jayanti\n",
       "10       10  November 16, 2020    Monday            Diwali-Balipratipada\n",
       "11       11  November 30, 2020    Monday               Gurunanak Jayanti\n",
       "12       12  December 25, 2020    Friday                       Christmas"
      ]
     },
     "execution_count": 9,
     "metadata": {},
     "output_type": "execute_result"
    }
   ],
   "source": [
    "# convert to pandas dataframe\n",
    "t = tables[0].df; t"
   ]
  },
  {
   "cell_type": "code",
   "execution_count": 10,
   "metadata": {},
   "outputs": [
    {
     "data": {
      "text/html": [
       "<div>\n",
       "<style scoped>\n",
       "    .dataframe tbody tr th:only-of-type {\n",
       "        vertical-align: middle;\n",
       "    }\n",
       "\n",
       "    .dataframe tbody tr th {\n",
       "        vertical-align: top;\n",
       "    }\n",
       "\n",
       "    .dataframe thead th {\n",
       "        text-align: right;\n",
       "    }\n",
       "</style>\n",
       "<table border=\"1\" class=\"dataframe\">\n",
       "  <thead>\n",
       "    <tr style=\"text-align: right;\">\n",
       "      <th></th>\n",
       "      <th>Sr. No.</th>\n",
       "      <th>Date</th>\n",
       "      <th>Day</th>\n",
       "      <th>Description</th>\n",
       "    </tr>\n",
       "  </thead>\n",
       "  <tbody>\n",
       "    <tr>\n",
       "      <th>1</th>\n",
       "      <td>1</td>\n",
       "      <td>February 21, 2020</td>\n",
       "      <td>Friday</td>\n",
       "      <td>Mahashivratri</td>\n",
       "    </tr>\n",
       "    <tr>\n",
       "      <th>2</th>\n",
       "      <td>2</td>\n",
       "      <td>March 10, 2020</td>\n",
       "      <td>Tuesday</td>\n",
       "      <td>Holi</td>\n",
       "    </tr>\n",
       "    <tr>\n",
       "      <th>3</th>\n",
       "      <td>3</td>\n",
       "      <td>April 02,2020</td>\n",
       "      <td>Thursday</td>\n",
       "      <td>Ram Navami</td>\n",
       "    </tr>\n",
       "    <tr>\n",
       "      <th>4</th>\n",
       "      <td>4</td>\n",
       "      <td>April 06,2020</td>\n",
       "      <td>Monday</td>\n",
       "      <td>Mahavir Jayanti</td>\n",
       "    </tr>\n",
       "    <tr>\n",
       "      <th>5</th>\n",
       "      <td>5</td>\n",
       "      <td>April 10, 2020</td>\n",
       "      <td>Friday</td>\n",
       "      <td>Good Friday</td>\n",
       "    </tr>\n",
       "    <tr>\n",
       "      <th>6</th>\n",
       "      <td>6</td>\n",
       "      <td>April 14,2020</td>\n",
       "      <td>Tuesday</td>\n",
       "      <td>Dr.Baba Saheb Ambedkar Jayanti</td>\n",
       "    </tr>\n",
       "    <tr>\n",
       "      <th>7</th>\n",
       "      <td>7</td>\n",
       "      <td>May 01,2020</td>\n",
       "      <td>Friday</td>\n",
       "      <td>Maharashtra Day</td>\n",
       "    </tr>\n",
       "    <tr>\n",
       "      <th>8</th>\n",
       "      <td>8</td>\n",
       "      <td>May 25, 2020</td>\n",
       "      <td>Monday</td>\n",
       "      <td>Id-Ul-Fitr (Ramzan ID)</td>\n",
       "    </tr>\n",
       "    <tr>\n",
       "      <th>9</th>\n",
       "      <td>9</td>\n",
       "      <td>October 02, 2020</td>\n",
       "      <td>Friday</td>\n",
       "      <td>Mahatma Gandhi Jayanti</td>\n",
       "    </tr>\n",
       "    <tr>\n",
       "      <th>10</th>\n",
       "      <td>10</td>\n",
       "      <td>November 16, 2020</td>\n",
       "      <td>Monday</td>\n",
       "      <td>Diwali-Balipratipada</td>\n",
       "    </tr>\n",
       "    <tr>\n",
       "      <th>11</th>\n",
       "      <td>11</td>\n",
       "      <td>November 30, 2020</td>\n",
       "      <td>Monday</td>\n",
       "      <td>Gurunanak Jayanti</td>\n",
       "    </tr>\n",
       "    <tr>\n",
       "      <th>12</th>\n",
       "      <td>12</td>\n",
       "      <td>December 25, 2020</td>\n",
       "      <td>Friday</td>\n",
       "      <td>Christmas</td>\n",
       "    </tr>\n",
       "  </tbody>\n",
       "</table>\n",
       "</div>"
      ],
      "text/plain": [
       "   Sr. No.               Date       Day                     Description\n",
       "1        1  February 21, 2020    Friday                   Mahashivratri\n",
       "2        2     March 10, 2020   Tuesday                            Holi\n",
       "3        3      April 02,2020  Thursday                      Ram Navami\n",
       "4        4      April 06,2020    Monday                 Mahavir Jayanti\n",
       "5        5     April 10, 2020    Friday                     Good Friday\n",
       "6        6      April 14,2020   Tuesday  Dr.Baba Saheb Ambedkar Jayanti\n",
       "7        7        May 01,2020    Friday                 Maharashtra Day\n",
       "8        8       May 25, 2020    Monday          Id-Ul-Fitr (Ramzan ID)\n",
       "9        9   October 02, 2020    Friday          Mahatma Gandhi Jayanti\n",
       "10      10  November 16, 2020    Monday            Diwali-Balipratipada\n",
       "11      11  November 30, 2020    Monday               Gurunanak Jayanti\n",
       "12      12  December 25, 2020    Friday                       Christmas"
      ]
     },
     "execution_count": 10,
     "metadata": {},
     "output_type": "execute_result"
    }
   ],
   "source": [
    "t.rename(columns=t.iloc[0]).drop(t.index[0])"
   ]
  },
  {
   "cell_type": "markdown",
   "metadata": {},
   "source": [
    "### [Camelot CLI - readthedocs](https://camelot-py.readthedocs.io/en/master/user/cli.html)\n",
    "### [Excalibur Web Interface - github](https://github.com/camelot-dev/excalibur)\n",
    "### [Excalibur Web Interface - readthedocs](https://excalibur-py.readthedocs.io/en/master/)\n",
    "### [Ghostscript - readthedocs](https://camelot-py.readthedocs.io/en/master/user/install-deps.html)"
   ]
  },
  {
   "cell_type": "code",
   "execution_count": 11,
   "metadata": {},
   "outputs": [
    {
     "name": "stdout",
     "output_type": "stream",
     "text": [
      "GPL Ghostscript 9.26 (2018-11-20)\n",
      "Copyright (C) 2018 Artifex Software, Inc.  All rights reserved.\n"
     ]
    }
   ],
   "source": [
    "# was ghostscript installed correctly?\n",
    "!gs -version"
   ]
  },
  {
   "cell_type": "code",
   "execution_count": 13,
   "metadata": {},
   "outputs": [
    {
     "name": "stdout",
     "output_type": "stream",
     "text": [
      "1604.03968-visual-storytelling.zip\n"
     ]
    }
   ],
   "source": [
    "# using excalibur (sudo)\n",
    "# initialize db: $excalibur initdb\n",
    "# start webserver: $excalibur webserver (go to localhost:5000)\n",
    "# uploaded example PDF from ArXiV\n",
    "# parsed (something), downloaded as HTML table into zip file\n",
    "! ls *.zip"
   ]
  },
  {
   "cell_type": "code",
   "execution_count": null,
   "metadata": {},
   "outputs": [],
   "source": []
  }
 ],
 "metadata": {
  "kernelspec": {
   "display_name": "Python 3",
   "language": "python",
   "name": "python3"
  },
  "language_info": {
   "codemirror_mode": {
    "name": "ipython",
    "version": 3
   },
   "file_extension": ".py",
   "mimetype": "text/x-python",
   "name": "python",
   "nbconvert_exporter": "python",
   "pygments_lexer": "ipython3",
   "version": "3.6.9"
  }
 },
 "nbformat": 4,
 "nbformat_minor": 4
}
